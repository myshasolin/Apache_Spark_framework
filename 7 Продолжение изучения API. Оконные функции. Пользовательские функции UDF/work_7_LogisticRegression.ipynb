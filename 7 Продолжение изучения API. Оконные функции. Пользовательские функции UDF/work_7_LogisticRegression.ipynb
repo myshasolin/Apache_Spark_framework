{
  "nbformat": 4,
  "nbformat_minor": 0,
  "metadata": {
    "colab": {
      "provenance": []
    },
    "kernelspec": {
      "name": "python3",
      "display_name": "Python 3"
    },
    "language_info": {
      "name": "python"
    }
  },
  "cells": [
    {
      "cell_type": "markdown",
      "metadata": {
        "id": "yS6iWrHV9Gcm"
      },
      "source": [
        "# Кредитный скоринг\n",
        "При принятии решения о выдаче кредита или займа учитывается т.н. «Кредитный скоринг» — рейтинг платежеспособности клиента. ИИ на основе модели, которую просчитывает машинное обучение — в ней много параметров — возраст, зарплата, кредитная история, наличие недвижимости, автомобиля, судимости и других признаков, после обработки которых выносится положительное или отрицательное решение"
      ]
    },
    {
      "cell_type": "markdown",
      "source": [
        "Задание: ниже написан код на Pandas, написать аналогичный, но на Spark"
      ],
      "metadata": {
        "id": "ojVwWHu2IkEI"
      }
    },
    {
      "cell_type": "code",
      "metadata": {
        "id": "qU2mMtRS9Fqf"
      },
      "source": [
        "# Импортируем библиотеки\n",
        "\n",
        "import requests\n",
        "import warnings\n",
        "warnings.filterwarnings('ignore')\n",
        "\n",
        "import pandas as pd   \n",
        "\n",
        "from sklearn.model_selection import train_test_split\n",
        "from sklearn.metrics import accuracy_score\n",
        "from sklearn.linear_model import LogisticRegression\n",
        "from sklearn.preprocessing import OneHotEncoder, MinMaxScaler"
      ],
      "execution_count": 1,
      "outputs": []
    },
    {
      "cell_type": "markdown",
      "metadata": {
        "id": "LMtO2wAZFzf1"
      },
      "source": [
        "# Данные:\n",
        "[скачать](https://drive.google.com/file/d/1MuAyZiIm3b_r-AgQSj78tsRPqZpvv_2s/view?usp=sharing)\n",
        "\n",
        "**application_record.csv**\n",
        "*   ```ID```\t- id клиента\t\n",
        "*   ```CODE_GENDER``` -\tпол\t\n",
        "*   ```FLAG_OWN_CAR``` - есть ли машина\t\n",
        "*   ```FLAG_OWN_REALTY``` - есть ли недвижимость\t\n",
        "*   ```CNT_CHILDREN``` - количество детей\t\n",
        "*   ```AMT_INCOME_TOTAL``` - годовой доход\t\n",
        "*   ```NAME_INCOME_TYPE``` - категория дохода\t\n",
        "*   ```NAME_EDUCATION_TYPE```\t- уровень образования\t\n",
        "*   ```NAME_FAMILY_STATUS``` - семейное положение\t\n",
        "*   ```NAME_HOUSING_TYPE```\t- стиль жизни\t\n",
        "*   ```DAYS_BIRTH``` - день рождения Считается обратно от текущего дня (0), -1 означает вчера\n",
        "*   ```DAYS_EMPLOYED```\t- дата начала работы Считается обратно от текущего дня (0). Если значение положительное, значит, человек в настоящее время безработный\n",
        "*   ```FLAG_MOBIL```\t- есть ли мобильный\tтелефон\n",
        "*   ```FLAG_WORK_PHONE```\t- есть ли рабочий телефон\t\n",
        "*   ```FLAG_PHONE```\t- есть ли стационарный телефон\t\n",
        "*   ```FLAG_EMAIL```\t- есть ли электронная почта\n",
        "*   ```OCCUPATION_TYPE```\t- род занятий\t\n",
        "*   ```CNT_FAM_MEMBERS```\t- размер семьи\t\n",
        "\n",
        "**credit_record.csv**\n",
        "*   ```ID```\t- id клиента\n",
        "*   ```MONTHS_BALANCE```\tмесяц записи. Месяц извлеченных данных является отправной точкой, считая обратно, 0 - текущий месяц, -1 - предыдущий месяц и т.д.\n",
        "*   ```STATUS```\t- статус:\n",
        "   *   ```0```: от 1 до 29 дней просрочки\n",
        "   *   ```1```: от 30 до 59 дней просрочки\n",
        "   *   ```2```: от 60 до 89 дней просрочки\n",
        "   *   ```3```: от 90 до 119 дней просрочки\n",
        "   *   ```4```: от 120 до 149 дней просрочки\n",
        "    *   ```5```: просрочка или плохие долги, списанные более чем на 150 дней\n",
        "    *   ```C```: выплачено в этом месяце X: нет кредита в этом месяце\n"
      ]
    },
    {
      "cell_type": "markdown",
      "metadata": {
        "id": "11v9SXDGDgEv"
      },
      "source": [
        "## Считываем данные"
      ]
    },
    {
      "cell_type": "code",
      "metadata": {
        "id": "uxr1yM_5C4WO"
      },
      "source": [
        "# Ниже, мы для тех, у кого хоть раз были просрчоки больше 60 дней, ставим в таргет 1.\n",
        "train_response = requests.get('https://drive.google.com/uc?id=1pKV_N_dgbnYSTNjb5SU7FhX4MJXUJLNF')\n",
        "with open('application_record.csv', 'wb') as file:\n",
        "    file.write(train_response.content)\n",
        "data = pd.read_csv(\"application_record.csv\", encoding = 'utf-8')\n",
        "\n",
        "test_response = requests.get('https://drive.google.com/uc?id=17sFPpluSD_xvolqmAK0NZUHKGbAc81YC')\n",
        "with open('credit_record.csv', 'wb') as file:\n",
        "    file.write(test_response.content)\n",
        "record = pd.read_csv(\"credit_record.csv\", encoding = 'utf-8')\n",
        "\n",
        "\n",
        "# # Добавляем срок кредита к параметрам выдачи кредита\n",
        "begin_month = pd.DataFrame(record.groupby([\"ID\"])[\"MONTHS_BALANCE\"].agg(min) * - 1)\n",
        "begin_month = begin_month.rename(columns={'MONTHS_BALANCE':'begin_month'}) \n",
        "new_data = pd.merge(data, begin_month, how=\"left\", on=\"ID\") \n",
        "\n",
        "# # Больше 60, то это просрочка, ставим - Yes, если просрочка есть за срок кредита,то так же ставим Yes\n",
        "record['dep_value'] = None\n",
        "record['dep_value'][record['STATUS'] == '2'] = 'Yes'\n",
        "record['dep_value'][record['STATUS'] == '3'] = 'Yes'\n",
        "record['dep_value'][record['STATUS'] == '4'] = 'Yes'\n",
        "record['dep_value'][record['STATUS'] == '5'] = 'Yes'\n",
        "cpunt = record.groupby('ID').count()\n",
        "cpunt['dep_value'][cpunt['dep_value'] > 0] = 'Yes' \n",
        "cpunt['dep_value'][cpunt['dep_value'] == 0] = 'No'\n",
        "\n",
        "# # Джойним всё вместе,заменяем Yes и No на 1 и 0\n",
        "cpunt = cpunt[['dep_value']]\n",
        "new_data = pd.merge(new_data, cpunt, how='inner', on='ID')\n",
        "new_data['target'] = new_data['dep_value']\n",
        "new_data.loc[new_data['target'] == 'Yes', 'target'] = 1\n",
        "new_data.loc[new_data['target'] == 'No', 'target'] = 0"
      ],
      "execution_count": 2,
      "outputs": []
    },
    {
      "cell_type": "code",
      "metadata": {
        "colab": {
          "base_uri": "https://localhost:8080/",
          "height": 352
        },
        "id": "8VuidKOpIGns",
        "outputId": "ee28a549-7049-44e4-f12d-868a233c8575"
      },
      "source": [
        "#  В итоге к анкетным данным мы добавили таргет\n",
        "new_data.head()"
      ],
      "execution_count": 3,
      "outputs": [
        {
          "output_type": "execute_result",
          "data": {
            "text/plain": [
              "        ID CODE_GENDER FLAG_OWN_CAR FLAG_OWN_REALTY  CNT_CHILDREN  \\\n",
              "0  5008804           M            Y               Y             0   \n",
              "1  5008805           M            Y               Y             0   \n",
              "2  5008806           M            Y               Y             0   \n",
              "3  5008808           F            N               Y             0   \n",
              "4  5008809           F            N               Y             0   \n",
              "\n",
              "   AMT_INCOME_TOTAL      NAME_INCOME_TYPE            NAME_EDUCATION_TYPE  \\\n",
              "0          427500.0               Working               Higher education   \n",
              "1          427500.0               Working               Higher education   \n",
              "2          112500.0               Working  Secondary / secondary special   \n",
              "3          270000.0  Commercial associate  Secondary / secondary special   \n",
              "4          270000.0  Commercial associate  Secondary / secondary special   \n",
              "\n",
              "     NAME_FAMILY_STATUS  NAME_HOUSING_TYPE  ...  DAYS_EMPLOYED  FLAG_MOBIL  \\\n",
              "0        Civil marriage   Rented apartment  ...          -4542           1   \n",
              "1        Civil marriage   Rented apartment  ...          -4542           1   \n",
              "2               Married  House / apartment  ...          -1134           1   \n",
              "3  Single / not married  House / apartment  ...          -3051           1   \n",
              "4  Single / not married  House / apartment  ...          -3051           1   \n",
              "\n",
              "   FLAG_WORK_PHONE  FLAG_PHONE  FLAG_EMAIL  OCCUPATION_TYPE CNT_FAM_MEMBERS  \\\n",
              "0                1           0           0              NaN             2.0   \n",
              "1                1           0           0              NaN             2.0   \n",
              "2                0           0           0   Security staff             2.0   \n",
              "3                0           1           1      Sales staff             1.0   \n",
              "4                0           1           1      Sales staff             1.0   \n",
              "\n",
              "   begin_month  dep_value target  \n",
              "0         15.0         No      0  \n",
              "1         14.0         No      0  \n",
              "2         29.0         No      0  \n",
              "3          4.0         No      0  \n",
              "4         26.0         No      0  \n",
              "\n",
              "[5 rows x 21 columns]"
            ],
            "text/html": [
              "\n",
              "  <div id=\"df-c920d875-8807-42ca-94d0-cac62bf62298\">\n",
              "    <div class=\"colab-df-container\">\n",
              "      <div>\n",
              "<style scoped>\n",
              "    .dataframe tbody tr th:only-of-type {\n",
              "        vertical-align: middle;\n",
              "    }\n",
              "\n",
              "    .dataframe tbody tr th {\n",
              "        vertical-align: top;\n",
              "    }\n",
              "\n",
              "    .dataframe thead th {\n",
              "        text-align: right;\n",
              "    }\n",
              "</style>\n",
              "<table border=\"1\" class=\"dataframe\">\n",
              "  <thead>\n",
              "    <tr style=\"text-align: right;\">\n",
              "      <th></th>\n",
              "      <th>ID</th>\n",
              "      <th>CODE_GENDER</th>\n",
              "      <th>FLAG_OWN_CAR</th>\n",
              "      <th>FLAG_OWN_REALTY</th>\n",
              "      <th>CNT_CHILDREN</th>\n",
              "      <th>AMT_INCOME_TOTAL</th>\n",
              "      <th>NAME_INCOME_TYPE</th>\n",
              "      <th>NAME_EDUCATION_TYPE</th>\n",
              "      <th>NAME_FAMILY_STATUS</th>\n",
              "      <th>NAME_HOUSING_TYPE</th>\n",
              "      <th>...</th>\n",
              "      <th>DAYS_EMPLOYED</th>\n",
              "      <th>FLAG_MOBIL</th>\n",
              "      <th>FLAG_WORK_PHONE</th>\n",
              "      <th>FLAG_PHONE</th>\n",
              "      <th>FLAG_EMAIL</th>\n",
              "      <th>OCCUPATION_TYPE</th>\n",
              "      <th>CNT_FAM_MEMBERS</th>\n",
              "      <th>begin_month</th>\n",
              "      <th>dep_value</th>\n",
              "      <th>target</th>\n",
              "    </tr>\n",
              "  </thead>\n",
              "  <tbody>\n",
              "    <tr>\n",
              "      <th>0</th>\n",
              "      <td>5008804</td>\n",
              "      <td>M</td>\n",
              "      <td>Y</td>\n",
              "      <td>Y</td>\n",
              "      <td>0</td>\n",
              "      <td>427500.0</td>\n",
              "      <td>Working</td>\n",
              "      <td>Higher education</td>\n",
              "      <td>Civil marriage</td>\n",
              "      <td>Rented apartment</td>\n",
              "      <td>...</td>\n",
              "      <td>-4542</td>\n",
              "      <td>1</td>\n",
              "      <td>1</td>\n",
              "      <td>0</td>\n",
              "      <td>0</td>\n",
              "      <td>NaN</td>\n",
              "      <td>2.0</td>\n",
              "      <td>15.0</td>\n",
              "      <td>No</td>\n",
              "      <td>0</td>\n",
              "    </tr>\n",
              "    <tr>\n",
              "      <th>1</th>\n",
              "      <td>5008805</td>\n",
              "      <td>M</td>\n",
              "      <td>Y</td>\n",
              "      <td>Y</td>\n",
              "      <td>0</td>\n",
              "      <td>427500.0</td>\n",
              "      <td>Working</td>\n",
              "      <td>Higher education</td>\n",
              "      <td>Civil marriage</td>\n",
              "      <td>Rented apartment</td>\n",
              "      <td>...</td>\n",
              "      <td>-4542</td>\n",
              "      <td>1</td>\n",
              "      <td>1</td>\n",
              "      <td>0</td>\n",
              "      <td>0</td>\n",
              "      <td>NaN</td>\n",
              "      <td>2.0</td>\n",
              "      <td>14.0</td>\n",
              "      <td>No</td>\n",
              "      <td>0</td>\n",
              "    </tr>\n",
              "    <tr>\n",
              "      <th>2</th>\n",
              "      <td>5008806</td>\n",
              "      <td>M</td>\n",
              "      <td>Y</td>\n",
              "      <td>Y</td>\n",
              "      <td>0</td>\n",
              "      <td>112500.0</td>\n",
              "      <td>Working</td>\n",
              "      <td>Secondary / secondary special</td>\n",
              "      <td>Married</td>\n",
              "      <td>House / apartment</td>\n",
              "      <td>...</td>\n",
              "      <td>-1134</td>\n",
              "      <td>1</td>\n",
              "      <td>0</td>\n",
              "      <td>0</td>\n",
              "      <td>0</td>\n",
              "      <td>Security staff</td>\n",
              "      <td>2.0</td>\n",
              "      <td>29.0</td>\n",
              "      <td>No</td>\n",
              "      <td>0</td>\n",
              "    </tr>\n",
              "    <tr>\n",
              "      <th>3</th>\n",
              "      <td>5008808</td>\n",
              "      <td>F</td>\n",
              "      <td>N</td>\n",
              "      <td>Y</td>\n",
              "      <td>0</td>\n",
              "      <td>270000.0</td>\n",
              "      <td>Commercial associate</td>\n",
              "      <td>Secondary / secondary special</td>\n",
              "      <td>Single / not married</td>\n",
              "      <td>House / apartment</td>\n",
              "      <td>...</td>\n",
              "      <td>-3051</td>\n",
              "      <td>1</td>\n",
              "      <td>0</td>\n",
              "      <td>1</td>\n",
              "      <td>1</td>\n",
              "      <td>Sales staff</td>\n",
              "      <td>1.0</td>\n",
              "      <td>4.0</td>\n",
              "      <td>No</td>\n",
              "      <td>0</td>\n",
              "    </tr>\n",
              "    <tr>\n",
              "      <th>4</th>\n",
              "      <td>5008809</td>\n",
              "      <td>F</td>\n",
              "      <td>N</td>\n",
              "      <td>Y</td>\n",
              "      <td>0</td>\n",
              "      <td>270000.0</td>\n",
              "      <td>Commercial associate</td>\n",
              "      <td>Secondary / secondary special</td>\n",
              "      <td>Single / not married</td>\n",
              "      <td>House / apartment</td>\n",
              "      <td>...</td>\n",
              "      <td>-3051</td>\n",
              "      <td>1</td>\n",
              "      <td>0</td>\n",
              "      <td>1</td>\n",
              "      <td>1</td>\n",
              "      <td>Sales staff</td>\n",
              "      <td>1.0</td>\n",
              "      <td>26.0</td>\n",
              "      <td>No</td>\n",
              "      <td>0</td>\n",
              "    </tr>\n",
              "  </tbody>\n",
              "</table>\n",
              "<p>5 rows × 21 columns</p>\n",
              "</div>\n",
              "      <button class=\"colab-df-convert\" onclick=\"convertToInteractive('df-c920d875-8807-42ca-94d0-cac62bf62298')\"\n",
              "              title=\"Convert this dataframe to an interactive table.\"\n",
              "              style=\"display:none;\">\n",
              "        \n",
              "  <svg xmlns=\"http://www.w3.org/2000/svg\" height=\"24px\"viewBox=\"0 0 24 24\"\n",
              "       width=\"24px\">\n",
              "    <path d=\"M0 0h24v24H0V0z\" fill=\"none\"/>\n",
              "    <path d=\"M18.56 5.44l.94 2.06.94-2.06 2.06-.94-2.06-.94-.94-2.06-.94 2.06-2.06.94zm-11 1L8.5 8.5l.94-2.06 2.06-.94-2.06-.94L8.5 2.5l-.94 2.06-2.06.94zm10 10l.94 2.06.94-2.06 2.06-.94-2.06-.94-.94-2.06-.94 2.06-2.06.94z\"/><path d=\"M17.41 7.96l-1.37-1.37c-.4-.4-.92-.59-1.43-.59-.52 0-1.04.2-1.43.59L10.3 9.45l-7.72 7.72c-.78.78-.78 2.05 0 2.83L4 21.41c.39.39.9.59 1.41.59.51 0 1.02-.2 1.41-.59l7.78-7.78 2.81-2.81c.8-.78.8-2.07 0-2.86zM5.41 20L4 18.59l7.72-7.72 1.47 1.35L5.41 20z\"/>\n",
              "  </svg>\n",
              "      </button>\n",
              "      \n",
              "  <style>\n",
              "    .colab-df-container {\n",
              "      display:flex;\n",
              "      flex-wrap:wrap;\n",
              "      gap: 12px;\n",
              "    }\n",
              "\n",
              "    .colab-df-convert {\n",
              "      background-color: #E8F0FE;\n",
              "      border: none;\n",
              "      border-radius: 50%;\n",
              "      cursor: pointer;\n",
              "      display: none;\n",
              "      fill: #1967D2;\n",
              "      height: 32px;\n",
              "      padding: 0 0 0 0;\n",
              "      width: 32px;\n",
              "    }\n",
              "\n",
              "    .colab-df-convert:hover {\n",
              "      background-color: #E2EBFA;\n",
              "      box-shadow: 0px 1px 2px rgba(60, 64, 67, 0.3), 0px 1px 3px 1px rgba(60, 64, 67, 0.15);\n",
              "      fill: #174EA6;\n",
              "    }\n",
              "\n",
              "    [theme=dark] .colab-df-convert {\n",
              "      background-color: #3B4455;\n",
              "      fill: #D2E3FC;\n",
              "    }\n",
              "\n",
              "    [theme=dark] .colab-df-convert:hover {\n",
              "      background-color: #434B5C;\n",
              "      box-shadow: 0px 1px 3px 1px rgba(0, 0, 0, 0.15);\n",
              "      filter: drop-shadow(0px 1px 2px rgba(0, 0, 0, 0.3));\n",
              "      fill: #FFFFFF;\n",
              "    }\n",
              "  </style>\n",
              "\n",
              "      <script>\n",
              "        const buttonEl =\n",
              "          document.querySelector('#df-c920d875-8807-42ca-94d0-cac62bf62298 button.colab-df-convert');\n",
              "        buttonEl.style.display =\n",
              "          google.colab.kernel.accessAllowed ? 'block' : 'none';\n",
              "\n",
              "        async function convertToInteractive(key) {\n",
              "          const element = document.querySelector('#df-c920d875-8807-42ca-94d0-cac62bf62298');\n",
              "          const dataTable =\n",
              "            await google.colab.kernel.invokeFunction('convertToInteractive',\n",
              "                                                     [key], {});\n",
              "          if (!dataTable) return;\n",
              "\n",
              "          const docLinkHtml = 'Like what you see? Visit the ' +\n",
              "            '<a target=\"_blank\" href=https://colab.research.google.com/notebooks/data_table.ipynb>data table notebook</a>'\n",
              "            + ' to learn more about interactive tables.';\n",
              "          element.innerHTML = '';\n",
              "          dataTable['output_type'] = 'display_data';\n",
              "          await google.colab.output.renderOutput(dataTable, element);\n",
              "          const docLink = document.createElement('div');\n",
              "          docLink.innerHTML = docLinkHtml;\n",
              "          element.appendChild(docLink);\n",
              "        }\n",
              "      </script>\n",
              "    </div>\n",
              "  </div>\n",
              "  "
            ]
          },
          "metadata": {},
          "execution_count": 3
        }
      ]
    },
    {
      "cell_type": "code",
      "metadata": {
        "id": "vnp4IifWJ5Lq"
      },
      "source": [
        "# Упростим себе задачу и оставим только часть признаков\n",
        "features = ['AMT_INCOME_TOTAL', 'CODE_GENDER', 'FLAG_OWN_CAR', 'FLAG_OWN_REALTY', 'CNT_CHILDREN']\t\n",
        "target = ['target',]\n",
        "dataset = new_data[features + target]\n",
        "dataset[target[0]] = pd.to_numeric(dataset[target[0]])"
      ],
      "execution_count": 4,
      "outputs": []
    },
    {
      "cell_type": "markdown",
      "metadata": {
        "id": "nbdj50CcDk3o"
      },
      "source": [
        "У нас есть выборка, где указаны параметры клиента, и вышел ли он на просрочку или нет."
      ]
    },
    {
      "cell_type": "code",
      "metadata": {
        "id": "g5OIVqemDICB"
      },
      "source": [
        "# Разделим выборку на трейн и тест, на трейн будем обучать модель, на тест валидировать.\n",
        "X_train, X_test, y_train, y_test = train_test_split(dataset[features], pd.to_numeric(dataset[target[0]]), test_size=0.3, random_state=42)"
      ],
      "execution_count": 5,
      "outputs": []
    },
    {
      "cell_type": "code",
      "metadata": {
        "id": "FMNW38tmOrf0"
      },
      "source": [
        "# Превращаем категориальные факторы в численные\n",
        "ohe = OneHotEncoder()\n",
        "ohe.fit(X_train[['CODE_GENDER', 'FLAG_OWN_CAR', 'FLAG_OWN_REALTY']])\n",
        "X_train_ohe = ohe.transform(X_train[['CODE_GENDER', 'FLAG_OWN_CAR', 'FLAG_OWN_REALTY']])\n",
        "X_test_ohe = ohe.transform(X_test[['CODE_GENDER', 'FLAG_OWN_CAR', 'FLAG_OWN_REALTY']])\n",
        "\n",
        "X_train_ohe = pd.DataFrame(X_train_ohe.toarray(), columns=[item for sublist in ohe.categories_ for item in sublist])\n",
        "X_test_ohe = pd.DataFrame(X_test_ohe.toarray(), columns=[item for sublist in ohe.categories_ for item in sublist])"
      ],
      "execution_count": 6,
      "outputs": []
    },
    {
      "cell_type": "code",
      "metadata": {
        "id": "sZcQy_4lS0_x"
      },
      "source": [
        "# Отскалируем численные\n",
        "mms = MinMaxScaler()\n",
        "mms.fit(X_train[['AMT_INCOME_TOTAL', 'CNT_CHILDREN']])\n",
        "X_train_scaled = mms.transform(X_train[['AMT_INCOME_TOTAL', 'CNT_CHILDREN']])\n",
        "X_test_scaled = mms.transform(X_test[['AMT_INCOME_TOTAL', 'CNT_CHILDREN']])\n",
        "\n",
        "X_train_scaled = pd.DataFrame(X_train_scaled, columns=['AMT_INCOME_TOTAL', 'CNT_CHILDREN'])\n",
        "X_test_scaled = pd.DataFrame(X_test_scaled, columns=['AMT_INCOME_TOTAL', 'CNT_CHILDREN'])"
      ],
      "execution_count": 7,
      "outputs": []
    },
    {
      "cell_type": "code",
      "metadata": {
        "id": "hTr2-HRLPvZ5"
      },
      "source": [
        "X_train = pd.concat([X_train_scaled, X_train_ohe,], axis=1)\n",
        "X_test = pd.concat([X_test_scaled, X_test_ohe, ], axis=1)"
      ],
      "execution_count": 8,
      "outputs": []
    },
    {
      "cell_type": "markdown",
      "metadata": {
        "id": "k6iYtYBSQrZw"
      },
      "source": [
        "#  Модель"
      ]
    },
    {
      "cell_type": "code",
      "metadata": {
        "colab": {
          "base_uri": "https://localhost:8080/",
          "height": 75
        },
        "id": "67opqS-YDNhv",
        "outputId": "ada00e7d-aab9-47f5-db32-a3364a95eb50"
      },
      "source": [
        "# Создадим простейшую модель, которая покажет через линейные коэффиценты связь переменных и таргета\n",
        "model = LogisticRegression()\n",
        "model.fit(X_train, y_train)"
      ],
      "execution_count": 9,
      "outputs": [
        {
          "output_type": "execute_result",
          "data": {
            "text/plain": [
              "LogisticRegression()"
            ],
            "text/html": [
              "<style>#sk-container-id-1 {color: black;background-color: white;}#sk-container-id-1 pre{padding: 0;}#sk-container-id-1 div.sk-toggleable {background-color: white;}#sk-container-id-1 label.sk-toggleable__label {cursor: pointer;display: block;width: 100%;margin-bottom: 0;padding: 0.3em;box-sizing: border-box;text-align: center;}#sk-container-id-1 label.sk-toggleable__label-arrow:before {content: \"▸\";float: left;margin-right: 0.25em;color: #696969;}#sk-container-id-1 label.sk-toggleable__label-arrow:hover:before {color: black;}#sk-container-id-1 div.sk-estimator:hover label.sk-toggleable__label-arrow:before {color: black;}#sk-container-id-1 div.sk-toggleable__content {max-height: 0;max-width: 0;overflow: hidden;text-align: left;background-color: #f0f8ff;}#sk-container-id-1 div.sk-toggleable__content pre {margin: 0.2em;color: black;border-radius: 0.25em;background-color: #f0f8ff;}#sk-container-id-1 input.sk-toggleable__control:checked~div.sk-toggleable__content {max-height: 200px;max-width: 100%;overflow: auto;}#sk-container-id-1 input.sk-toggleable__control:checked~label.sk-toggleable__label-arrow:before {content: \"▾\";}#sk-container-id-1 div.sk-estimator input.sk-toggleable__control:checked~label.sk-toggleable__label {background-color: #d4ebff;}#sk-container-id-1 div.sk-label input.sk-toggleable__control:checked~label.sk-toggleable__label {background-color: #d4ebff;}#sk-container-id-1 input.sk-hidden--visually {border: 0;clip: rect(1px 1px 1px 1px);clip: rect(1px, 1px, 1px, 1px);height: 1px;margin: -1px;overflow: hidden;padding: 0;position: absolute;width: 1px;}#sk-container-id-1 div.sk-estimator {font-family: monospace;background-color: #f0f8ff;border: 1px dotted black;border-radius: 0.25em;box-sizing: border-box;margin-bottom: 0.5em;}#sk-container-id-1 div.sk-estimator:hover {background-color: #d4ebff;}#sk-container-id-1 div.sk-parallel-item::after {content: \"\";width: 100%;border-bottom: 1px solid gray;flex-grow: 1;}#sk-container-id-1 div.sk-label:hover label.sk-toggleable__label {background-color: #d4ebff;}#sk-container-id-1 div.sk-serial::before {content: \"\";position: absolute;border-left: 1px solid gray;box-sizing: border-box;top: 0;bottom: 0;left: 50%;z-index: 0;}#sk-container-id-1 div.sk-serial {display: flex;flex-direction: column;align-items: center;background-color: white;padding-right: 0.2em;padding-left: 0.2em;position: relative;}#sk-container-id-1 div.sk-item {position: relative;z-index: 1;}#sk-container-id-1 div.sk-parallel {display: flex;align-items: stretch;justify-content: center;background-color: white;position: relative;}#sk-container-id-1 div.sk-item::before, #sk-container-id-1 div.sk-parallel-item::before {content: \"\";position: absolute;border-left: 1px solid gray;box-sizing: border-box;top: 0;bottom: 0;left: 50%;z-index: -1;}#sk-container-id-1 div.sk-parallel-item {display: flex;flex-direction: column;z-index: 1;position: relative;background-color: white;}#sk-container-id-1 div.sk-parallel-item:first-child::after {align-self: flex-end;width: 50%;}#sk-container-id-1 div.sk-parallel-item:last-child::after {align-self: flex-start;width: 50%;}#sk-container-id-1 div.sk-parallel-item:only-child::after {width: 0;}#sk-container-id-1 div.sk-dashed-wrapped {border: 1px dashed gray;margin: 0 0.4em 0.5em 0.4em;box-sizing: border-box;padding-bottom: 0.4em;background-color: white;}#sk-container-id-1 div.sk-label label {font-family: monospace;font-weight: bold;display: inline-block;line-height: 1.2em;}#sk-container-id-1 div.sk-label-container {text-align: center;}#sk-container-id-1 div.sk-container {/* jupyter's `normalize.less` sets `[hidden] { display: none; }` but bootstrap.min.css set `[hidden] { display: none !important; }` so we also need the `!important` here to be able to override the default hidden behavior on the sphinx rendered scikit-learn.org. See: https://github.com/scikit-learn/scikit-learn/issues/21755 */display: inline-block !important;position: relative;}#sk-container-id-1 div.sk-text-repr-fallback {display: none;}</style><div id=\"sk-container-id-1\" class=\"sk-top-container\"><div class=\"sk-text-repr-fallback\"><pre>LogisticRegression()</pre><b>In a Jupyter environment, please rerun this cell to show the HTML representation or trust the notebook. <br />On GitHub, the HTML representation is unable to render, please try loading this page with nbviewer.org.</b></div><div class=\"sk-container\" hidden><div class=\"sk-item\"><div class=\"sk-estimator sk-toggleable\"><input class=\"sk-toggleable__control sk-hidden--visually\" id=\"sk-estimator-id-1\" type=\"checkbox\" checked><label for=\"sk-estimator-id-1\" class=\"sk-toggleable__label sk-toggleable__label-arrow\">LogisticRegression</label><div class=\"sk-toggleable__content\"><pre>LogisticRegression()</pre></div></div></div></div></div>"
            ]
          },
          "metadata": {},
          "execution_count": 9
        }
      ]
    },
    {
      "cell_type": "code",
      "metadata": {
        "colab": {
          "base_uri": "https://localhost:8080/"
        },
        "id": "0teTAGTFDXtx",
        "outputId": "1ee1d526-255c-4de6-fd98-99f580ed62eb"
      },
      "source": [
        "train_score, test_score = accuracy_score(model.predict(X_train), y_train), accuracy_score(model.predict(X_test), y_test)\n",
        "print(f'Точность модели на трейне {train_score}, на тесте {test_score}')"
      ],
      "execution_count": 10,
      "outputs": [
        {
          "output_type": "stream",
          "name": "stdout",
          "text": [
            "Точность модели на трейне 0.9828755045260394, на тесте 0.983635033827025\n"
          ]
        }
      ]
    },
    {
      "cell_type": "markdown",
      "source": [
        "_____\n",
        "_____"
      ],
      "metadata": {
        "id": "2gzZnzFl586o"
      }
    },
    {
      "cell_type": "markdown",
      "source": [
        "Аналогичный код на PySpark:"
      ],
      "metadata": {
        "id": "fwnyNh5s5_aK"
      }
    },
    {
      "cell_type": "code",
      "source": [
        "!pip install pyspark"
      ],
      "metadata": {
        "colab": {
          "base_uri": "https://localhost:8080/"
        },
        "id": "EbSI6Nr96Em0",
        "outputId": "7a7c8050-b38f-4a77-9a50-ab14d7e0d2dd"
      },
      "execution_count": 11,
      "outputs": [
        {
          "output_type": "stream",
          "name": "stdout",
          "text": [
            "Looking in indexes: https://pypi.org/simple, https://us-python.pkg.dev/colab-wheels/public/simple/\n",
            "Collecting pyspark\n",
            "  Downloading pyspark-3.4.0.tar.gz (310.8 MB)\n",
            "\u001b[2K     \u001b[90m━━━━━━━━━━━━━━━━━━━━━━━━━━━━━━━━━━━━━━━\u001b[0m \u001b[32m310.8/310.8 MB\u001b[0m \u001b[31m3.1 MB/s\u001b[0m eta \u001b[36m0:00:00\u001b[0m\n",
            "\u001b[?25h  Preparing metadata (setup.py) ... \u001b[?25l\u001b[?25hdone\n",
            "Requirement already satisfied: py4j==0.10.9.7 in /usr/local/lib/python3.10/dist-packages (from pyspark) (0.10.9.7)\n",
            "Building wheels for collected packages: pyspark\n",
            "  Building wheel for pyspark (setup.py) ... \u001b[?25l\u001b[?25hdone\n",
            "  Created wheel for pyspark: filename=pyspark-3.4.0-py2.py3-none-any.whl size=311317130 sha256=4e22a37b412174a48368e22b2e8bee9103622aba9204509e26e9075715794c1c\n",
            "  Stored in directory: /root/.cache/pip/wheels/7b/1b/4b/3363a1d04368e7ff0d408e57ff57966fcdf00583774e761327\n",
            "Successfully built pyspark\n",
            "Installing collected packages: pyspark\n",
            "Successfully installed pyspark-3.4.0\n"
          ]
        }
      ]
    },
    {
      "cell_type": "code",
      "source": [
        "# зададим импорты\n",
        "from pyspark.sql import SparkSession\n",
        "import pyspark.sql.functions as F\n",
        "from pyspark.ml.feature import StringIndexer, OneHotEncoder, VectorAssembler, MinMaxScaler\n",
        "from pyspark.ml.classification import LogisticRegression\n",
        "from pyspark.ml.evaluation import MulticlassClassificationEvaluator\n",
        "from pyspark.ml.tuning import CrossValidator, ParamGridBuilder, TrainValidationSplit\n",
        "from pyspark.ml import Pipeline"
      ],
      "metadata": {
        "id": "ishVhT5d58PA"
      },
      "execution_count": 12,
      "outputs": []
    },
    {
      "cell_type": "code",
      "source": [
        "# создадим сессия\n",
        "spark = SparkSession.builder\\\n",
        "        .master('local[2]')\\\n",
        "        .appName('Lesson_7')\\\n",
        "        .config('spark.ui.port', '4050')\\\n",
        "        .config('spark.executor.instances', 2)\\\n",
        "        .config('spark.executor.memory', '4g')\\\n",
        "        .config('spark.executor.cores', 2)\\\n",
        "        .getOrCreate()"
      ],
      "metadata": {
        "id": "fi9ST7NK6lQm"
      },
      "execution_count": 13,
      "outputs": []
    },
    {
      "cell_type": "code",
      "source": [
        "# Загрузим данные\n",
        "data = spark.read.csv('application_record.csv', header=True, inferSchema=True)\n",
        "record = spark.read.csv('credit_record.csv', header=True, inferSchema=True)\n",
        "\n",
        "# Добавим столбец begin_month\n",
        "begin_month = record.groupby('ID').agg(F.min(F.col('MONTHS_BALANCE')).alias('begin_month'))\n",
        "begin_month = begin_month.withColumn('begin_month', -1 * F.col('begin_month'))\n",
        "new_data = data.join(begin_month, on='ID', how='left')\n",
        "\n",
        "# Добавим столбец target\n",
        "record = record.withColumn('dep_value', \n",
        "                           F.when(F.col('STATUS').isin(['2', '3', '4', '5']), 'Yes').otherwise(None))\n",
        "cpunt = record.groupby('ID').count().withColumnRenamed('count', 'dep_value')\n",
        "cpunt = cpunt.withColumn('dep_value', F.when(F.col('dep_value') > 0, 'Yes').otherwise('No'))\n",
        "new_data = new_data.join(cpunt.select('ID', 'dep_value'), on='ID', how='inner')\n",
        "new_data = new_data.withColumn('target', F.when(F.col('dep_value') == 'Yes', 1).otherwise(0))"
      ],
      "metadata": {
        "id": "j_Wjvfbh6K04"
      },
      "execution_count": 14,
      "outputs": []
    },
    {
      "cell_type": "markdown",
      "source": [
        "посмотрим на схему и вид заполнения:"
      ],
      "metadata": {
        "id": "IO1qvJIqJO9T"
      }
    },
    {
      "cell_type": "code",
      "source": [
        "new_data.printSchema()"
      ],
      "metadata": {
        "colab": {
          "base_uri": "https://localhost:8080/"
        },
        "id": "JSvEVi4xGs2u",
        "outputId": "85a31ad7-784c-4c28-e8f5-c54282cf064b"
      },
      "execution_count": 15,
      "outputs": [
        {
          "output_type": "stream",
          "name": "stdout",
          "text": [
            "root\n",
            " |-- ID: integer (nullable = true)\n",
            " |-- CODE_GENDER: string (nullable = true)\n",
            " |-- FLAG_OWN_CAR: string (nullable = true)\n",
            " |-- FLAG_OWN_REALTY: string (nullable = true)\n",
            " |-- CNT_CHILDREN: integer (nullable = true)\n",
            " |-- AMT_INCOME_TOTAL: double (nullable = true)\n",
            " |-- NAME_INCOME_TYPE: string (nullable = true)\n",
            " |-- NAME_EDUCATION_TYPE: string (nullable = true)\n",
            " |-- NAME_FAMILY_STATUS: string (nullable = true)\n",
            " |-- NAME_HOUSING_TYPE: string (nullable = true)\n",
            " |-- DAYS_BIRTH: integer (nullable = true)\n",
            " |-- DAYS_EMPLOYED: integer (nullable = true)\n",
            " |-- FLAG_MOBIL: integer (nullable = true)\n",
            " |-- FLAG_WORK_PHONE: integer (nullable = true)\n",
            " |-- FLAG_PHONE: integer (nullable = true)\n",
            " |-- FLAG_EMAIL: integer (nullable = true)\n",
            " |-- OCCUPATION_TYPE: string (nullable = true)\n",
            " |-- CNT_FAM_MEMBERS: double (nullable = true)\n",
            " |-- begin_month: integer (nullable = true)\n",
            " |-- dep_value: string (nullable = false)\n",
            " |-- target: integer (nullable = false)\n",
            "\n"
          ]
        }
      ]
    },
    {
      "cell_type": "code",
      "source": [
        "new_data.show(1, vertical=True)"
      ],
      "metadata": {
        "colab": {
          "base_uri": "https://localhost:8080/"
        },
        "id": "KmxTnCjP6K3R",
        "outputId": "1557d6d7-ab7f-4094-8f38-f59962c20ecc"
      },
      "execution_count": 16,
      "outputs": [
        {
          "output_type": "stream",
          "name": "stdout",
          "text": [
            "-RECORD 0-------------------------------\n",
            " ID                  | 5008804          \n",
            " CODE_GENDER         | M                \n",
            " FLAG_OWN_CAR        | Y                \n",
            " FLAG_OWN_REALTY     | Y                \n",
            " CNT_CHILDREN        | 0                \n",
            " AMT_INCOME_TOTAL    | 427500.0         \n",
            " NAME_INCOME_TYPE    | Working          \n",
            " NAME_EDUCATION_TYPE | Higher education \n",
            " NAME_FAMILY_STATUS  | Civil marriage   \n",
            " NAME_HOUSING_TYPE   | Rented apartment \n",
            " DAYS_BIRTH          | -12005           \n",
            " DAYS_EMPLOYED       | -4542            \n",
            " FLAG_MOBIL          | 1                \n",
            " FLAG_WORK_PHONE     | 1                \n",
            " FLAG_PHONE          | 0                \n",
            " FLAG_EMAIL          | 0                \n",
            " OCCUPATION_TYPE     | null             \n",
            " CNT_FAM_MEMBERS     | 2.0              \n",
            " begin_month         | 15               \n",
            " dep_value           | Yes              \n",
            " target              | 1                \n",
            "only showing top 1 row\n",
            "\n"
          ]
        }
      ]
    },
    {
      "cell_type": "code",
      "source": [
        "# Упростим себе задачу и оставим только часть признаков\n",
        "features = ['AMT_INCOME_TOTAL', 'CODE_GENDER', 'FLAG_OWN_CAR', 'FLAG_OWN_REALTY', 'CNT_CHILDREN', 'target']\n",
        "dataset = new_data.select(features)\n",
        "dataset = dataset.withColumn('target', F.col('target').cast('double'))"
      ],
      "metadata": {
        "id": "BYBErIEE6K8g"
      },
      "execution_count": 17,
      "outputs": []
    },
    {
      "cell_type": "code",
      "source": [
        "# Разделим выборку на трейн и тест, на трейн будем обучать модель, на тест валидировать.\n",
        "X_train, X_test = dataset.randomSplit([0.7, 0.3], seed=42)"
      ],
      "metadata": {
        "id": "xDk6IoCE6K_M"
      },
      "execution_count": 18,
      "outputs": []
    },
    {
      "cell_type": "code",
      "source": [
        "# Создаем преобразование категориальных переменных в числовые\n",
        "stringIndexer = StringIndexer(inputCols=['CODE_GENDER', 'FLAG_OWN_CAR', 'FLAG_OWN_REALTY'], \n",
        "                              outputCols=['CODE_GENDER_Index', 'FLAG_OWN_CAR_Index', 'FLAG_OWN_REALTY_Index'])\n",
        "\n",
        "ohe = OneHotEncoder(inputCols=['CODE_GENDER_Index', 'FLAG_OWN_CAR_Index', 'FLAG_OWN_REALTY_Index'], \n",
        "                    outputCols=['CODE_GENDER_OHE', 'FLAG_OWN_CAR_OHE', 'FLAG_OWN_REALTY_OHE'])"
      ],
      "metadata": {
        "id": "HMdAw2cUdZ8s"
      },
      "execution_count": 19,
      "outputs": []
    },
    {
      "cell_type": "code",
      "source": [
        "# Создаем преобразование числовых переменных\n",
        "assembler_numerical = VectorAssembler(inputCols=['AMT_INCOME_TOTAL', 'CNT_CHILDREN'], outputCol='numerical_features')\n",
        "mms = MinMaxScaler(inputCol='numerical_features', outputCol='scaled_numerical_features')"
      ],
      "metadata": {
        "id": "UbJyoFZMg63b"
      },
      "execution_count": 20,
      "outputs": []
    },
    {
      "cell_type": "code",
      "source": [
        "# Создаем преобразование всех признаков в единый вектор\n",
        "assembler_all = VectorAssembler(inputCols=['AMT_INCOME_TOTAL', 'CNT_CHILDREN', 'CODE_GENDER_OHE', \n",
        "                                            'FLAG_OWN_CAR_OHE', 'FLAG_OWN_REALTY_OHE'], outputCol='features')"
      ],
      "metadata": {
        "id": "22CzmgYsg9HF"
      },
      "execution_count": 21,
      "outputs": []
    },
    {
      "cell_type": "code",
      "source": [
        "# Создаем модель логистической регрессии\n",
        "lr = LogisticRegression(featuresCol='features', labelCol='target')"
      ],
      "metadata": {
        "id": "7OZO2OXug_jb"
      },
      "execution_count": 22,
      "outputs": []
    },
    {
      "cell_type": "code",
      "source": [
        "# Создаем pipeline\n",
        "pipeline = Pipeline(stages=[stringIndexer, ohe, assembler_numerical, mms, assembler_all, lr])"
      ],
      "metadata": {
        "id": "jSwANXwgg_r3"
      },
      "execution_count": 23,
      "outputs": []
    },
    {
      "cell_type": "code",
      "source": [
        "# Обучаем модель\n",
        "model = pipeline.fit(X_train)\n",
        "\n",
        "# Получаем прогнозы\n",
        "train_predictions = model.transform(X_train)\n",
        "test_predictions = model.transform(X_test)\n",
        "\n",
        "# Оцениваем качество модели\n",
        "evaluator = MulticlassClassificationEvaluator(predictionCol='prediction', \n",
        "                                              labelCol='target', \n",
        "                                              metricName='accuracy')\n",
        "train_score = evaluator.evaluate(train_predictions)\n",
        "test_score = evaluator.evaluate(test_predictions)\n",
        "print(f'Точность модели на трейне {train_score}, на тесте {test_score}')"
      ],
      "metadata": {
        "colab": {
          "base_uri": "https://localhost:8080/"
        },
        "id": "ozV0W9Nqg_0d",
        "outputId": "8312a43a-4e5e-4ce4-b710-2cbb855d8c2b"
      },
      "execution_count": 24,
      "outputs": [
        {
          "output_type": "stream",
          "name": "stdout",
          "text": [
            "Точность модели на трейне 1.0, на тесте 1.0\n"
          ]
        }
      ]
    },
    {
      "cell_type": "markdown",
      "source": [
        "Полученный результат может показаться странным, но это связано с различиями в реализации алгоритма логистической регрессии в библиотеках Pandas и PySpark.\n",
        "\n",
        "В частности, в библиотеке Pandas для решения задачи бинарной классификации методом логистической регрессии используется оптимизационный алгоритм L-BFGS, который не гарантирует сходимость к глобальному оптимуму. В то же время, в библиотеке PySpark для решения этой же задачи используется стохастический градиентный спуск (SGD), который имеет более стабильную сходимость к глобальному оптимуму.\n",
        "\n",
        "Поэтому различия в точности модели между Pandas и PySpark могут быть связаны с использованием различных алгоритмов оптимизации. \n",
        "\n",
        "Но вообщемы видим что в Pandas что в Spark обень высокую точность на тестовой выборке, что может быть признаком переобучения. Стоило бы ещё провести дополнительный анализ для проверки корректности работы модели перед тем, как всерьёз полагаться на неё. Но у нас учебнывй пример на понимание и использование синтаксиса, так что ограничимся тем, что на сей занимательный факт мы обратили внимание."
      ],
      "metadata": {
        "id": "Ry02EG8bB754"
      }
    }
  ]
}