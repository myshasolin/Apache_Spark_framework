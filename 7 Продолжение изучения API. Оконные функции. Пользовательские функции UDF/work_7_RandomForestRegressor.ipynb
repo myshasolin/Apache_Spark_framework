{
  "cells": [
    {
      "cell_type": "markdown",
      "metadata": {
        "id": "6W7u-73y5f5g"
      },
      "source": [
        "# Задание\n",
        "Обучить и оценить модель по данным load_boston с использованием сетки параметров ```ParamGridBuilder``` и ```Pipeline```. Оценивается модель при помощи ```MAE``` "
      ]
    },
    {
      "cell_type": "markdown",
      "source": [
        "Датасет взял [здесь](https://www.kaggle.com/datasets/puxama/bostoncsv?resource=download), так как в sklearn его больше нет"
      ],
      "metadata": {
        "id": "xvACeuFiIGZJ"
      }
    },
    {
      "cell_type": "code",
      "source": [
        "!pip install pyspark"
      ],
      "metadata": {
        "colab": {
          "base_uri": "https://localhost:8080/"
        },
        "id": "jXvd3gmjZSmH",
        "outputId": "dfa28a94-011b-4a17-bb6f-a6687e9c3a69"
      },
      "execution_count": 1,
      "outputs": [
        {
          "output_type": "stream",
          "name": "stdout",
          "text": [
            "Looking in indexes: https://pypi.org/simple, https://us-python.pkg.dev/colab-wheels/public/simple/\n",
            "Collecting pyspark\n",
            "  Downloading pyspark-3.4.0.tar.gz (310.8 MB)\n",
            "\u001b[2K     \u001b[90m━━━━━━━━━━━━━━━━━━━━━━━━━━━━━━━━━━━━━━━\u001b[0m \u001b[32m310.8/310.8 MB\u001b[0m \u001b[31m2.9 MB/s\u001b[0m eta \u001b[36m0:00:00\u001b[0m\n",
            "\u001b[?25h  Preparing metadata (setup.py) ... \u001b[?25l\u001b[?25hdone\n",
            "Requirement already satisfied: py4j==0.10.9.7 in /usr/local/lib/python3.10/dist-packages (from pyspark) (0.10.9.7)\n",
            "Building wheels for collected packages: pyspark\n",
            "  Building wheel for pyspark (setup.py) ... \u001b[?25l\u001b[?25hdone\n",
            "  Created wheel for pyspark: filename=pyspark-3.4.0-py2.py3-none-any.whl size=311317130 sha256=da899fb3ff6b02d8dd2457ac9959d5995f14bce368a909995299b6da44beba29\n",
            "  Stored in directory: /root/.cache/pip/wheels/7b/1b/4b/3363a1d04368e7ff0d408e57ff57966fcdf00583774e761327\n",
            "Successfully built pyspark\n",
            "Installing collected packages: pyspark\n",
            "Successfully installed pyspark-3.4.0\n"
          ]
        }
      ]
    },
    {
      "cell_type": "code",
      "execution_count": 2,
      "metadata": {
        "id": "wH9YYYd9yHM6"
      },
      "outputs": [],
      "source": [
        "import requests\n",
        "import pandas as pd\n",
        "\n",
        "from pyspark.ml import Pipeline\n",
        "from pyspark.ml.evaluation import RegressionEvaluator\n",
        "from pyspark.ml.regression import RandomForestRegressor\n",
        "from pyspark.ml.feature import VectorAssembler, StandardScaler\n",
        "from pyspark.ml.tuning import ParamGridBuilder, CrossValidator\n",
        "\n",
        "from pyspark.sql import SparkSession\n",
        "from pyspark.sql import functions as F\n",
        "from pyspark.sql.types import *"
      ]
    },
    {
      "cell_type": "markdown",
      "source": [
        "Создаём Spark-сессию:"
      ],
      "metadata": {
        "id": "DI9zz7ZOE9ub"
      }
    },
    {
      "cell_type": "code",
      "execution_count": 3,
      "metadata": {
        "id": "sW4oDIDPw5Dd"
      },
      "outputs": [],
      "source": [
        "spark = SparkSession.builder\\\n",
        "    .master(\"local[2]\")\\\n",
        "    .appName(\"Lesson_7\")\\\n",
        "    .config(\"spark.executor.instances\",2)\\\n",
        "    .config(\"spark.executor.memory\",'2g')\\\n",
        "    .config(\"spark.executor.cores\",1)\\\n",
        "    .getOrCreate()"
      ]
    },
    {
      "cell_type": "markdown",
      "source": [
        "Скачиваем данные с Google Drive. Так они выглядят в Pandas DataFrame:"
      ],
      "metadata": {
        "id": "T1tv8CSJFFj3"
      }
    },
    {
      "cell_type": "code",
      "source": [
        "train_response = requests.get('https://drive.google.com/uc?id=1YWYuawetKJlr9aJS4YoI1vQ2RIelQtOf')\n",
        "with open('Boston.csv', 'wb') as file:\n",
        "    file.write(train_response.content)\n",
        "dataset = pd.read_csv('Boston.csv')\n",
        "dataset.rename(columns={'medv': 'target'}, inplace=True)\n",
        "dataset.head(5)"
      ],
      "metadata": {
        "colab": {
          "base_uri": "https://localhost:8080/",
          "height": 206
        },
        "id": "rIeQeJRrV-IL",
        "outputId": "a7e78c5f-b001-4161-d918-ccfe20f46d9d"
      },
      "execution_count": 4,
      "outputs": [
        {
          "output_type": "execute_result",
          "data": {
            "text/plain": [
              "   Unnamed: 0     crim    zn  indus  chas    nox     rm   age     dis  rad  \\\n",
              "0           1  0.00632  18.0   2.31     0  0.538  6.575  65.2  4.0900    1   \n",
              "1           2  0.02731   0.0   7.07     0  0.469  6.421  78.9  4.9671    2   \n",
              "2           3  0.02729   0.0   7.07     0  0.469  7.185  61.1  4.9671    2   \n",
              "3           4  0.03237   0.0   2.18     0  0.458  6.998  45.8  6.0622    3   \n",
              "4           5  0.06905   0.0   2.18     0  0.458  7.147  54.2  6.0622    3   \n",
              "\n",
              "   tax  ptratio   black  lstat  target  \n",
              "0  296     15.3  396.90   4.98    24.0  \n",
              "1  242     17.8  396.90   9.14    21.6  \n",
              "2  242     17.8  392.83   4.03    34.7  \n",
              "3  222     18.7  394.63   2.94    33.4  \n",
              "4  222     18.7  396.90   5.33    36.2  "
            ],
            "text/html": [
              "\n",
              "  <div id=\"df-9e7d48aa-c238-4d2c-aca7-5feeb50496d2\">\n",
              "    <div class=\"colab-df-container\">\n",
              "      <div>\n",
              "<style scoped>\n",
              "    .dataframe tbody tr th:only-of-type {\n",
              "        vertical-align: middle;\n",
              "    }\n",
              "\n",
              "    .dataframe tbody tr th {\n",
              "        vertical-align: top;\n",
              "    }\n",
              "\n",
              "    .dataframe thead th {\n",
              "        text-align: right;\n",
              "    }\n",
              "</style>\n",
              "<table border=\"1\" class=\"dataframe\">\n",
              "  <thead>\n",
              "    <tr style=\"text-align: right;\">\n",
              "      <th></th>\n",
              "      <th>Unnamed: 0</th>\n",
              "      <th>crim</th>\n",
              "      <th>zn</th>\n",
              "      <th>indus</th>\n",
              "      <th>chas</th>\n",
              "      <th>nox</th>\n",
              "      <th>rm</th>\n",
              "      <th>age</th>\n",
              "      <th>dis</th>\n",
              "      <th>rad</th>\n",
              "      <th>tax</th>\n",
              "      <th>ptratio</th>\n",
              "      <th>black</th>\n",
              "      <th>lstat</th>\n",
              "      <th>target</th>\n",
              "    </tr>\n",
              "  </thead>\n",
              "  <tbody>\n",
              "    <tr>\n",
              "      <th>0</th>\n",
              "      <td>1</td>\n",
              "      <td>0.00632</td>\n",
              "      <td>18.0</td>\n",
              "      <td>2.31</td>\n",
              "      <td>0</td>\n",
              "      <td>0.538</td>\n",
              "      <td>6.575</td>\n",
              "      <td>65.2</td>\n",
              "      <td>4.0900</td>\n",
              "      <td>1</td>\n",
              "      <td>296</td>\n",
              "      <td>15.3</td>\n",
              "      <td>396.90</td>\n",
              "      <td>4.98</td>\n",
              "      <td>24.0</td>\n",
              "    </tr>\n",
              "    <tr>\n",
              "      <th>1</th>\n",
              "      <td>2</td>\n",
              "      <td>0.02731</td>\n",
              "      <td>0.0</td>\n",
              "      <td>7.07</td>\n",
              "      <td>0</td>\n",
              "      <td>0.469</td>\n",
              "      <td>6.421</td>\n",
              "      <td>78.9</td>\n",
              "      <td>4.9671</td>\n",
              "      <td>2</td>\n",
              "      <td>242</td>\n",
              "      <td>17.8</td>\n",
              "      <td>396.90</td>\n",
              "      <td>9.14</td>\n",
              "      <td>21.6</td>\n",
              "    </tr>\n",
              "    <tr>\n",
              "      <th>2</th>\n",
              "      <td>3</td>\n",
              "      <td>0.02729</td>\n",
              "      <td>0.0</td>\n",
              "      <td>7.07</td>\n",
              "      <td>0</td>\n",
              "      <td>0.469</td>\n",
              "      <td>7.185</td>\n",
              "      <td>61.1</td>\n",
              "      <td>4.9671</td>\n",
              "      <td>2</td>\n",
              "      <td>242</td>\n",
              "      <td>17.8</td>\n",
              "      <td>392.83</td>\n",
              "      <td>4.03</td>\n",
              "      <td>34.7</td>\n",
              "    </tr>\n",
              "    <tr>\n",
              "      <th>3</th>\n",
              "      <td>4</td>\n",
              "      <td>0.03237</td>\n",
              "      <td>0.0</td>\n",
              "      <td>2.18</td>\n",
              "      <td>0</td>\n",
              "      <td>0.458</td>\n",
              "      <td>6.998</td>\n",
              "      <td>45.8</td>\n",
              "      <td>6.0622</td>\n",
              "      <td>3</td>\n",
              "      <td>222</td>\n",
              "      <td>18.7</td>\n",
              "      <td>394.63</td>\n",
              "      <td>2.94</td>\n",
              "      <td>33.4</td>\n",
              "    </tr>\n",
              "    <tr>\n",
              "      <th>4</th>\n",
              "      <td>5</td>\n",
              "      <td>0.06905</td>\n",
              "      <td>0.0</td>\n",
              "      <td>2.18</td>\n",
              "      <td>0</td>\n",
              "      <td>0.458</td>\n",
              "      <td>7.147</td>\n",
              "      <td>54.2</td>\n",
              "      <td>6.0622</td>\n",
              "      <td>3</td>\n",
              "      <td>222</td>\n",
              "      <td>18.7</td>\n",
              "      <td>396.90</td>\n",
              "      <td>5.33</td>\n",
              "      <td>36.2</td>\n",
              "    </tr>\n",
              "  </tbody>\n",
              "</table>\n",
              "</div>\n",
              "      <button class=\"colab-df-convert\" onclick=\"convertToInteractive('df-9e7d48aa-c238-4d2c-aca7-5feeb50496d2')\"\n",
              "              title=\"Convert this dataframe to an interactive table.\"\n",
              "              style=\"display:none;\">\n",
              "        \n",
              "  <svg xmlns=\"http://www.w3.org/2000/svg\" height=\"24px\"viewBox=\"0 0 24 24\"\n",
              "       width=\"24px\">\n",
              "    <path d=\"M0 0h24v24H0V0z\" fill=\"none\"/>\n",
              "    <path d=\"M18.56 5.44l.94 2.06.94-2.06 2.06-.94-2.06-.94-.94-2.06-.94 2.06-2.06.94zm-11 1L8.5 8.5l.94-2.06 2.06-.94-2.06-.94L8.5 2.5l-.94 2.06-2.06.94zm10 10l.94 2.06.94-2.06 2.06-.94-2.06-.94-.94-2.06-.94 2.06-2.06.94z\"/><path d=\"M17.41 7.96l-1.37-1.37c-.4-.4-.92-.59-1.43-.59-.52 0-1.04.2-1.43.59L10.3 9.45l-7.72 7.72c-.78.78-.78 2.05 0 2.83L4 21.41c.39.39.9.59 1.41.59.51 0 1.02-.2 1.41-.59l7.78-7.78 2.81-2.81c.8-.78.8-2.07 0-2.86zM5.41 20L4 18.59l7.72-7.72 1.47 1.35L5.41 20z\"/>\n",
              "  </svg>\n",
              "      </button>\n",
              "      \n",
              "  <style>\n",
              "    .colab-df-container {\n",
              "      display:flex;\n",
              "      flex-wrap:wrap;\n",
              "      gap: 12px;\n",
              "    }\n",
              "\n",
              "    .colab-df-convert {\n",
              "      background-color: #E8F0FE;\n",
              "      border: none;\n",
              "      border-radius: 50%;\n",
              "      cursor: pointer;\n",
              "      display: none;\n",
              "      fill: #1967D2;\n",
              "      height: 32px;\n",
              "      padding: 0 0 0 0;\n",
              "      width: 32px;\n",
              "    }\n",
              "\n",
              "    .colab-df-convert:hover {\n",
              "      background-color: #E2EBFA;\n",
              "      box-shadow: 0px 1px 2px rgba(60, 64, 67, 0.3), 0px 1px 3px 1px rgba(60, 64, 67, 0.15);\n",
              "      fill: #174EA6;\n",
              "    }\n",
              "\n",
              "    [theme=dark] .colab-df-convert {\n",
              "      background-color: #3B4455;\n",
              "      fill: #D2E3FC;\n",
              "    }\n",
              "\n",
              "    [theme=dark] .colab-df-convert:hover {\n",
              "      background-color: #434B5C;\n",
              "      box-shadow: 0px 1px 3px 1px rgba(0, 0, 0, 0.15);\n",
              "      filter: drop-shadow(0px 1px 2px rgba(0, 0, 0, 0.3));\n",
              "      fill: #FFFFFF;\n",
              "    }\n",
              "  </style>\n",
              "\n",
              "      <script>\n",
              "        const buttonEl =\n",
              "          document.querySelector('#df-9e7d48aa-c238-4d2c-aca7-5feeb50496d2 button.colab-df-convert');\n",
              "        buttonEl.style.display =\n",
              "          google.colab.kernel.accessAllowed ? 'block' : 'none';\n",
              "\n",
              "        async function convertToInteractive(key) {\n",
              "          const element = document.querySelector('#df-9e7d48aa-c238-4d2c-aca7-5feeb50496d2');\n",
              "          const dataTable =\n",
              "            await google.colab.kernel.invokeFunction('convertToInteractive',\n",
              "                                                     [key], {});\n",
              "          if (!dataTable) return;\n",
              "\n",
              "          const docLinkHtml = 'Like what you see? Visit the ' +\n",
              "            '<a target=\"_blank\" href=https://colab.research.google.com/notebooks/data_table.ipynb>data table notebook</a>'\n",
              "            + ' to learn more about interactive tables.';\n",
              "          element.innerHTML = '';\n",
              "          dataTable['output_type'] = 'display_data';\n",
              "          await google.colab.output.renderOutput(dataTable, element);\n",
              "          const docLink = document.createElement('div');\n",
              "          docLink.innerHTML = docLinkHtml;\n",
              "          element.appendChild(docLink);\n",
              "        }\n",
              "      </script>\n",
              "    </div>\n",
              "  </div>\n",
              "  "
            ]
          },
          "metadata": {},
          "execution_count": 4
        }
      ]
    },
    {
      "cell_type": "markdown",
      "source": [
        "А так в Spark DataFrame:"
      ],
      "metadata": {
        "id": "mwsdqeq0FOQ-"
      }
    },
    {
      "cell_type": "code",
      "source": [
        "spark_dataset = spark.createDataFrame(dataset)\n",
        "spark_dataset.show(5)"
      ],
      "metadata": {
        "colab": {
          "base_uri": "https://localhost:8080/"
        },
        "id": "GqnGhXzNBExl",
        "outputId": "70e204fc-88ad-49d4-f987-ad19f8f7f9b0"
      },
      "execution_count": 5,
      "outputs": [
        {
          "output_type": "stream",
          "name": "stdout",
          "text": [
            "+----------+-------+----+-----+----+-----+-----+----+------+---+---+-------+------+-----+------+\n",
            "|Unnamed: 0|   crim|  zn|indus|chas|  nox|   rm| age|   dis|rad|tax|ptratio| black|lstat|target|\n",
            "+----------+-------+----+-----+----+-----+-----+----+------+---+---+-------+------+-----+------+\n",
            "|         1|0.00632|18.0| 2.31|   0|0.538|6.575|65.2|  4.09|  1|296|   15.3| 396.9| 4.98|  24.0|\n",
            "|         2|0.02731| 0.0| 7.07|   0|0.469|6.421|78.9|4.9671|  2|242|   17.8| 396.9| 9.14|  21.6|\n",
            "|         3|0.02729| 0.0| 7.07|   0|0.469|7.185|61.1|4.9671|  2|242|   17.8|392.83| 4.03|  34.7|\n",
            "|         4|0.03237| 0.0| 2.18|   0|0.458|6.998|45.8|6.0622|  3|222|   18.7|394.63| 2.94|  33.4|\n",
            "|         5|0.06905| 0.0| 2.18|   0|0.458|7.147|54.2|6.0622|  3|222|   18.7| 396.9| 5.33|  36.2|\n",
            "+----------+-------+----+-----+----+-----+-----+----+------+---+---+-------+------+-----+------+\n",
            "only showing top 5 rows\n",
            "\n"
          ]
        }
      ]
    },
    {
      "cell_type": "markdown",
      "source": [
        "Подготовим и обучим модель. В пайплайне используем:\n",
        "- ```VectorAssembler``` - трансформер, который объединит признаки из ```feature_columns``` в один плотный вектор значений. Построенный вектор будет иметь имя 'features'\n",
        "- ```StandardScaler``` - стандартизация\n",
        "- ```RandomForestRegressor``` - алгоритм случайного леса\n",
        "\n",
        "В переборе параметров с ```помощью param_grid``` рассморим следующие:\n",
        "- ```numTrees``` - количество деревьев в лесу (50, 100 или 200 деревьев)\n",
        "- ```maxDepth``` - максимальная глубина деревьев в лесу (5, 10 или 20 уровней)\n",
        "- ```withMean``` - булевый флаг, указывающий следует ли центрировать данные перед обучением модели (True или False)\n",
        "\n",
        "Так же для уверенности прогноза при помощи ```CrossValidator``` применим кросс-валидацию на 3 фолда"
      ],
      "metadata": {
        "id": "MgsBQT7GFU5L"
      }
    },
    {
      "cell_type": "code",
      "source": [
        "feature_columns = ['crim', 'zn', 'indus', 'chas', 'nox', 'rm', 'age', \n",
        "                   'dis', 'rad', 'tax', 'ptratio', 'black', 'lstat']\n",
        "\n",
        "pipeline = Pipeline(stages=[\n",
        "    VectorAssembler(inputCols=feature_columns, outputCol='features'),\n",
        "    StandardScaler(inputCol='features', outputCol='scaled_features'),\n",
        "    RandomForestRegressor(featuresCol='features', labelCol='target')\n",
        "])\n",
        "\n",
        "# Разделение на обучающую и тестовую выборки\n",
        "train, test = spark_dataset.randomSplit([0.7, 0.3], seed=42)\n",
        "\n",
        "# Конфигурация гиперпараметров\n",
        "param_grid = ParamGridBuilder() \\\n",
        "    .addGrid(RandomForestRegressor.numTrees, [50, 100, 200]) \\\n",
        "    .addGrid(RandomForestRegressor.maxDepth, [5, 10, 20]) \\\n",
        "    .addGrid(StandardScaler.withMean, [True, False]) \\\n",
        "    .build()\n",
        "\n",
        "# Кросс-валидация\n",
        "cross_validator = CrossValidator(estimator=pipeline, \n",
        "                                 estimatorParamMaps=param_grid,\n",
        "                                 evaluator=RegressionEvaluator(predictionCol='prediction', labelCol='target', metricName='mae'),\n",
        "                                 numFolds=3,\n",
        "                                 seed=42)\n",
        "\n",
        "# Обучим модель на тренировочных данных\n",
        "model = cross_validator.fit(train.orderBy(F.rand()))"
      ],
      "metadata": {
        "id": "DJzwS5PJW26Y"
      },
      "execution_count": 6,
      "outputs": []
    },
    {
      "cell_type": "code",
      "source": [
        "# Получим прогнозов для тренировочных и тестовых данных\n",
        "train_predictions = model.transform(train)\n",
        "test_predictions = model.transform(test)\n",
        "\n",
        "# Так мы оценим качество медели \n",
        "mae_evaluator_test = RegressionEvaluator(predictionCol='prediction', labelCol='target', metricName='mae')\n",
        "mae_test = mae_evaluator_test.evaluate(test_predictions)\n",
        "\n",
        "mae_evaluator_train = RegressionEvaluator(predictionCol='prediction', labelCol='target', metricName='mae')\n",
        "mae_train = mae_evaluator_train.evaluate(train_predictions)\n",
        "\n",
        "print(f'MAE на train-выборке: {mae_train:.2f}')\n",
        "print(f'MAE на test-выборке:  {mae_test:.2f}')"
      ],
      "metadata": {
        "colab": {
          "base_uri": "https://localhost:8080/"
        },
        "id": "r9k5qE5fAZcn",
        "outputId": "cf1360a8-c3a9-4295-9112-25341b6cf166"
      },
      "execution_count": 7,
      "outputs": [
        {
          "output_type": "stream",
          "name": "stdout",
          "text": [
            "MAE на train-выборке: 1.93\n",
            "MAE на test-выборке:  2.41\n"
          ]
        }
      ]
    },
    {
      "cell_type": "markdown",
      "source": [
        "результат на тестовой выборке получился ощутимо лучше, чем в условном задании без тюнинга, т.к. там результат был таким:\n",
        "\n",
        "    Scores:: \n",
        "        train: 1.7964428791089762, \n",
        "        test: 2.6747956161632347\n",
        "\n",
        "Вывод: наша модель работает и она молодец :)"
      ],
      "metadata": {
        "id": "71Ze_9lFL_U6"
      }
    }
  ],
  "metadata": {
    "colab": {
      "provenance": []
    },
    "kernelspec": {
      "display_name": "Python 3",
      "name": "python3"
    },
    "language_info": {
      "name": "python"
    }
  },
  "nbformat": 4,
  "nbformat_minor": 0
}