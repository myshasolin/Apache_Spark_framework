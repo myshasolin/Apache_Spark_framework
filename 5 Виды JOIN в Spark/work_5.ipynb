{
  "nbformat": 4,
  "nbformat_minor": 0,
  "metadata": {
    "colab": {
      "provenance": []
    },
    "kernelspec": {
      "name": "python3",
      "display_name": "Python 3"
    },
    "language_info": {
      "name": "python"
    }
  },
  "cells": [
    {
      "cell_type": "markdown",
      "metadata": {
        "id": "jnx98VS6o__s"
      },
      "source": [
        "**Урок 5**"
      ]
    },
    {
      "cell_type": "code",
      "metadata": {
        "colab": {
          "base_uri": "https://localhost:8080/"
        },
        "id": "gB-SYbCkpKPc",
        "outputId": "f7f59894-35a3-43ac-b1ba-c333954e57f3"
      },
      "source": [
        "!pip install pyspark"
      ],
      "execution_count": 1,
      "outputs": [
        {
          "output_type": "stream",
          "name": "stdout",
          "text": [
            "Looking in indexes: https://pypi.org/simple, https://us-python.pkg.dev/colab-wheels/public/simple/\n",
            "Collecting pyspark\n",
            "  Downloading pyspark-3.4.0.tar.gz (310.8 MB)\n",
            "\u001b[2K     \u001b[90m━━━━━━━━━━━━━━━━━━━━━━━━━━━━━━━━━━━━━━━\u001b[0m \u001b[32m310.8/310.8 MB\u001b[0m \u001b[31m4.2 MB/s\u001b[0m eta \u001b[36m0:00:00\u001b[0m\n",
            "\u001b[?25h  Preparing metadata (setup.py) ... \u001b[?25l\u001b[?25hdone\n",
            "Requirement already satisfied: py4j==0.10.9.7 in /usr/local/lib/python3.10/dist-packages (from pyspark) (0.10.9.7)\n",
            "Building wheels for collected packages: pyspark\n",
            "  Building wheel for pyspark (setup.py) ... \u001b[?25l\u001b[?25hdone\n",
            "  Created wheel for pyspark: filename=pyspark-3.4.0-py2.py3-none-any.whl size=311317130 sha256=4901bbc705e6556f3bf89406d09d7d146c495a55cf1f0e1d6fd581258cd68c3f\n",
            "  Stored in directory: /root/.cache/pip/wheels/7b/1b/4b/3363a1d04368e7ff0d408e57ff57966fcdf00583774e761327\n",
            "Successfully built pyspark\n",
            "Installing collected packages: pyspark\n",
            "Successfully installed pyspark-3.4.0\n"
          ]
        }
      ]
    },
    {
      "cell_type": "code",
      "metadata": {
        "id": "HcK8cwMIpszD"
      },
      "source": [
        "from pyspark.sql import SparkSession\n",
        "from pyspark.sql import functions as F\n",
        "\n",
        "spark = SparkSession.builder.master('local[4]').appName('joins_hw').getOrCreate()"
      ],
      "execution_count": 2,
      "outputs": []
    },
    {
      "cell_type": "markdown",
      "metadata": {
        "id": "6R3Bm-ycpyrJ"
      },
      "source": [
        "**Joins**"
      ]
    },
    {
      "cell_type": "code",
      "metadata": {
        "colab": {
          "base_uri": "https://localhost:8080/"
        },
        "id": "FuOyeDjzp3ue",
        "outputId": "cadd523c-570d-4ed9-b16a-b79cb3a8912a"
      },
      "source": [
        "# Создаём датасет для примеров\n",
        "dataset_1 = [\n",
        "  {\n",
        "    'key_1' : 'abc',\n",
        "    'value_1' : 10,\n",
        "    'value_2' : 20\n",
        "  },\n",
        "  {\n",
        "    'key_1' : 'def',\n",
        "    'value_1' : 100,\n",
        "    'value_2' : 300\n",
        "  }\n",
        "]\n",
        "\n",
        "dataset_2 = [\n",
        "  {\n",
        "    'key_2' : 'abc',\n",
        "    'value_1' : 5.5,\n",
        "    'value_2' : 2.2\n",
        "  },\n",
        "  {\n",
        "    'key_2' : 'xyz',\n",
        "    'value_1' : 10.1,\n",
        "    'value_2' : 13.5\n",
        "  }\n",
        "]\n",
        "\n",
        "df1 = spark.createDataFrame(dataset_1)\n",
        "print('df1')\n",
        "df1.show()\n",
        "\n",
        "df2 = spark.createDataFrame(dataset_2)\n",
        "print('df2')\n",
        "df2.show()"
      ],
      "execution_count": 3,
      "outputs": [
        {
          "output_type": "stream",
          "name": "stdout",
          "text": [
            "df1\n",
            "+-----+-------+-------+\n",
            "|key_1|value_1|value_2|\n",
            "+-----+-------+-------+\n",
            "|  abc|     10|     20|\n",
            "|  def|    100|    300|\n",
            "+-----+-------+-------+\n",
            "\n",
            "df2\n",
            "+-----+-------+-------+\n",
            "|key_2|value_1|value_2|\n",
            "+-----+-------+-------+\n",
            "|  abc|    5.5|    2.2|\n",
            "|  xyz|   10.1|   13.5|\n",
            "+-----+-------+-------+\n",
            "\n"
          ]
        }
      ]
    },
    {
      "cell_type": "markdown",
      "metadata": {
        "id": "rA7Auby4p_-T"
      },
      "source": [
        "**Left Semi join**"
      ]
    },
    {
      "cell_type": "markdown",
      "source": [
        "```Left Semi join``` - левое полусоединение, возвращает только те строки из левой таблицы, которые имеют соответствующее значение в правой таблице, при этом не возвращает значений из правой таблицы и может быть полезен для фильтрации данных"
      ],
      "metadata": {
        "id": "2MMfRjpvHMJM"
      }
    },
    {
      "cell_type": "code",
      "source": [
        "df1.join(df2, df1.key_1 == df2.key_2, 'left_semi').show()"
      ],
      "metadata": {
        "colab": {
          "base_uri": "https://localhost:8080/"
        },
        "id": "9ElhS8d7a8tw",
        "outputId": "a2aa4b02-7573-4536-ed74-7ac4641e76f2"
      },
      "execution_count": 4,
      "outputs": [
        {
          "output_type": "stream",
          "name": "stdout",
          "text": [
            "+-----+-------+-------+\n",
            "|key_1|value_1|value_2|\n",
            "+-----+-------+-------+\n",
            "|  abc|     10|     20|\n",
            "+-----+-------+-------+\n",
            "\n"
          ]
        }
      ]
    },
    {
      "cell_type": "code",
      "metadata": {
        "id": "N9NXGMIlqBwz"
      },
      "source": [
        "# Создайте джойн, чтобы получить следующую таблицу\n",
        "# +---+-------+-------+\n",
        "# |key|value_1|value_2|\n",
        "# +---+-------+-------+\n",
        "# |abc|     10|     20|\n",
        "# +---+-------+-------+"
      ],
      "execution_count": 5,
      "outputs": []
    },
    {
      "cell_type": "markdown",
      "metadata": {
        "id": "QuXIRDGVqWmV"
      },
      "source": [
        "**Left Anti join**"
      ]
    },
    {
      "cell_type": "markdown",
      "source": [
        "```Left Anti join``` - левое антисоединение, возвращает только те строки из левой таблицы, которые не имеют соответствующих значений в правой таблице, при этом не возвращает значений из правой таблицы и может быть полезен для фильтрации данных"
      ],
      "metadata": {
        "id": "S9acHBiiHzMn"
      }
    },
    {
      "cell_type": "code",
      "source": [
        "df1.join(df2, df1.key_1 == df2.key_2, 'left_anti').show()"
      ],
      "metadata": {
        "colab": {
          "base_uri": "https://localhost:8080/"
        },
        "id": "1BnTaFYSbQOx",
        "outputId": "cfe53a63-a501-45b0-fee3-c7755a34ba1b"
      },
      "execution_count": 6,
      "outputs": [
        {
          "output_type": "stream",
          "name": "stdout",
          "text": [
            "+-----+-------+-------+\n",
            "|key_1|value_1|value_2|\n",
            "+-----+-------+-------+\n",
            "|  def|    100|    300|\n",
            "+-----+-------+-------+\n",
            "\n"
          ]
        }
      ]
    },
    {
      "cell_type": "code",
      "metadata": {
        "id": "Nyzx6EECqYbT"
      },
      "source": [
        "# Создайте джойн, чтобы получить следующую таблицу\n",
        "# +---+-------+-------+\n",
        "# |key|value_1|value_2|\n",
        "# +---+-------+-------+\n",
        "# |def|    100|    300|\n",
        "# +---+-------+-------+"
      ],
      "execution_count": 7,
      "outputs": []
    },
    {
      "cell_type": "markdown",
      "metadata": {
        "id": "Dgx2631vql9i"
      },
      "source": [
        "**Inner join**"
      ]
    },
    {
      "cell_type": "markdown",
      "source": [
        "```Inner join``` - внутреннее соединение, возвращает только строки, имеющие соответствие в обеих таблицах, а соединяет таблицы на основе общих значений в указанных столбцах"
      ],
      "metadata": {
        "id": "iZ0glJqmINyt"
      }
    },
    {
      "cell_type": "code",
      "source": [
        "cond = [df1.value_1 != df2.value_2]\n",
        "df1.join(df2, cond).show()"
      ],
      "metadata": {
        "colab": {
          "base_uri": "https://localhost:8080/"
        },
        "id": "pdFRr43hbVr_",
        "outputId": "c6bf6fd6-2aa5-4a5c-db1c-020412d5d481"
      },
      "execution_count": 8,
      "outputs": [
        {
          "output_type": "stream",
          "name": "stdout",
          "text": [
            "+-----+-------+-------+-----+-------+-------+\n",
            "|key_1|value_1|value_2|key_2|value_1|value_2|\n",
            "+-----+-------+-------+-----+-------+-------+\n",
            "|  abc|     10|     20|  abc|    5.5|    2.2|\n",
            "|  abc|     10|     20|  xyz|   10.1|   13.5|\n",
            "|  def|    100|    300|  abc|    5.5|    2.2|\n",
            "|  def|    100|    300|  xyz|   10.1|   13.5|\n",
            "+-----+-------+-------+-----+-------+-------+\n",
            "\n"
          ]
        }
      ]
    },
    {
      "cell_type": "code",
      "metadata": {
        "id": "GdKZ278-qntb"
      },
      "source": [
        "# Создайте Inner джойн с условиями ---hidden---, для df1 и df2, соответсвенно\n",
        "# В  итоге получится таблица\n",
        "# +---+-------+-------+---+-------+-------+\n",
        "# |key|value_1|value_2|key|value_1|value_2|\n",
        "# +---+-------+-------+---+-------+-------+\n",
        "# |abc|     10|     20|abc|    5.5|    2.2|\n",
        "# |abc|     10|     20|xyz|   10.1|   13.5|\n",
        "# |def|    100|    300|abc|    5.5|    2.2|\n",
        "# |def|    100|    300|xyz|   10.1|   13.5|\n",
        "# +---+-------+-------+---+-------+-------+"
      ],
      "execution_count": 9,
      "outputs": []
    },
    {
      "cell_type": "markdown",
      "source": [
        "### Виды JOIN в Spark:\n",
        "\n",
        "[ INNER ] | CROSS | LEFT [ OUTER ] | [ LEFT ] SEMI | RIGHT [ OUTER ] | FULL [ OUTER ] | [ LEFT ] ANTI\n",
        "\n",
        "[ссылка на документацию](https://spark.apache.org/docs/latest/sql-ref-syntax-qry-select-join.html)"
      ],
      "metadata": {
        "id": "8qnqYXx5JYia"
      }
    },
    {
      "cell_type": "markdown",
      "source": [
        "**```Inner join```** (внутреннее соединение) - это тип соединения, который возвращает только те строки, которые имеют соответствующие значения в обоих таблицах. Он соединяет две таблицы на основе общих значений в указанных столбцах.\n",
        "\n",
        "**```Cross join```** (декартово произведение) - это тип соединения, который возвращает все возможные комбинации строк из двух таблиц. Он не требует указания столбцов для соединения и может быть очень ресурсоемким.\n",
        "\n",
        "**```Left (outer) join```** (левое внешнее соединение) - это тип соединения, который возвращает все строки из левой таблицы и только те строки из правой таблицы, которые имеют соответствующие значения в указанных столбцах. Если значение не найдено в правой таблице, то оно будет заполнено NULL.\n",
        "\n",
        "**```Left semi join```** (левое полу-соединение) - это тип соединения, который возвращает только те строки из левой таблицы, которые имеют соответствующие значения в правой таблице. Он не возвращает значения из правой таблицы и может быть полезен для фильтрации данных.\n",
        "\n",
        "**```Right (outer) join```** (правое внешнее соединение) - это тип соединения, который возвращает все строки из правой таблицы и только те строки из левой таблицы, которые имеют соответствующие значения в указанных столбцах. Если значение не найдено в левой таблице, то оно будет заполнено NULL.\n",
        "\n",
        "**```Full (outer) join```** (полное внешнее соединение) - это тип соединения, который возвращает все строки из обеих таблиц, а также значения, которые не имеют соответствия в другой таблице. При этом значения, которые не имеют соответствия в другой таблице, будут заполнены NULL.\n",
        "\n",
        "**```Left anti join```** (левое анти-соединение) - это тип соединения, который возвращает только те строки из левой таблицы, которые не имеют соответствующих значений в правой таблице. Он не возвращает значения из правой таблицы и может быть полезен для фильтрации данных."
      ],
      "metadata": {
        "id": "ZkyKMyLWJeTb"
      }
    }
  ]
}